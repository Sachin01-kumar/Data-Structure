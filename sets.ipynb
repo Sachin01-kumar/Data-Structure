{
 "cells": [
  {
   "cell_type": "code",
   "execution_count": 7,
   "id": "06181f1e",
   "metadata": {},
   "outputs": [
    {
     "data": {
      "text/plain": [
       "set()"
      ]
     },
     "execution_count": 7,
     "metadata": {},
     "output_type": "execute_result"
    }
   ],
   "source": [
    "data = set()\n",
    "data"
   ]
  },
  {
   "cell_type": "code",
   "execution_count": 8,
   "id": "25fbf152",
   "metadata": {},
   "outputs": [
    {
     "name": "stdout",
     "output_type": "stream",
     "text": [
      "{0, 2, 4, 7, 9}\n"
     ]
    }
   ],
   "source": [
    "data.add(2)\n",
    "data.add(4)\n",
    "data.add(7)\n",
    "data.add(9)\n",
    "data.add(0)\n",
    "print(data)"
   ]
  },
  {
   "cell_type": "code",
   "execution_count": 9,
   "id": "6ab29ea4",
   "metadata": {},
   "outputs": [
    {
     "data": {
      "text/plain": [
       "0"
      ]
     },
     "execution_count": 9,
     "metadata": {},
     "output_type": "execute_result"
    }
   ],
   "source": [
    "data.pop()\n"
   ]
  },
  {
   "cell_type": "code",
   "execution_count": 10,
   "id": "8e2d3a87",
   "metadata": {},
   "outputs": [
    {
     "name": "stdout",
     "output_type": "stream",
     "text": [
      "{2, 4, 9}\n"
     ]
    }
   ],
   "source": [
    "data.remove(7)\n",
    "print(data)"
   ]
  },
  {
   "cell_type": "code",
   "execution_count": 11,
   "id": "bcaba44d",
   "metadata": {},
   "outputs": [
    {
     "name": "stdout",
     "output_type": "stream",
     "text": [
      "{2, 4, 9}\n"
     ]
    }
   ],
   "source": [
    "data.discard(10)\n",
    "print(data)"
   ]
  },
  {
   "cell_type": "code",
   "execution_count": 12,
   "id": "a9b47aa8",
   "metadata": {},
   "outputs": [
    {
     "name": "stdout",
     "output_type": "stream",
     "text": [
      "{1, 2, 3, 4, 5}\n",
      "{4, 5, 6, 7, 8}\n"
     ]
    }
   ],
   "source": [
    "a ={1,2,3,4,5}\n",
    "b = {4,5,6,7,8}\n",
    "print(a)\n",
    "print(b)"
   ]
  },
  {
   "cell_type": "code",
   "execution_count": null,
   "id": "0ed5d75c",
   "metadata": {},
   "outputs": [
    {
     "name": "stdout",
     "output_type": "stream",
     "text": [
      "{1, 2, 3, 4, 5, 6, 7, 8}\n",
      "{1, 2, 3, 4, 5, 6, 7, 8}\n"
     ]
    }
   ],
   "source": [
    "#union \n",
    "print(a.union(b))\n",
    "\n",
    "#union symbol(|)\n",
    "print(a|b)"
   ]
  },
  {
   "cell_type": "code",
   "execution_count": null,
   "id": "c2306a73",
   "metadata": {},
   "outputs": [
    {
     "name": "stdout",
     "output_type": "stream",
     "text": [
      "{4, 5}\n",
      "{4, 5}\n"
     ]
    }
   ],
   "source": [
    "#intersection\n",
    "print(a.intersection(b))\n",
    "\n",
    "#symbol of intersection(&)\n",
    "print(a&b)"
   ]
  },
  {
   "cell_type": "code",
   "execution_count": 21,
   "id": "5cde7d1f",
   "metadata": {},
   "outputs": [
    {
     "name": "stdout",
     "output_type": "stream",
     "text": [
      "{1, 2, 3}\n",
      "{8, 6, 7}\n"
     ]
    }
   ],
   "source": [
    "#difference symbol (-)\n",
    "print(a-b)\n",
    "print(b-a)\n"
   ]
  },
  {
   "cell_type": "code",
   "execution_count": 22,
   "id": "6f381166",
   "metadata": {},
   "outputs": [
    {
     "name": "stdout",
     "output_type": "stream",
     "text": [
      "{1, 2, 3, 6, 7, 8}\n"
     ]
    }
   ],
   "source": [
    "#symmetric difference (remove common part n rest print all)\n",
    "print(a.symmetric_difference(b))"
   ]
  },
  {
   "cell_type": "code",
   "execution_count": 23,
   "id": "43518641",
   "metadata": {},
   "outputs": [
    {
     "name": "stdout",
     "output_type": "stream",
     "text": [
      "False\n"
     ]
    }
   ],
   "source": [
    "#superset \n",
    "print(a.issuperset(b))"
   ]
  },
  {
   "cell_type": "code",
   "execution_count": 24,
   "id": "90e6b0a2",
   "metadata": {},
   "outputs": [
    {
     "name": "stdout",
     "output_type": "stream",
     "text": [
      "True\n"
     ]
    }
   ],
   "source": [
    "a = {1,2,3,4,5}\n",
    "b ={3,4,5}\n",
    "print(a.issuperset(b))"
   ]
  },
  {
   "cell_type": "code",
   "execution_count": 26,
   "id": "0523638a",
   "metadata": {},
   "outputs": [
    {
     "data": {
      "text/plain": [
       "True"
      ]
     },
     "execution_count": 26,
     "metadata": {},
     "output_type": "execute_result"
    }
   ],
   "source": [
    "b.issubset(a)"
   ]
  },
  {
   "cell_type": "code",
   "execution_count": null,
   "id": "7038be00",
   "metadata": {},
   "outputs": [],
   "source": []
  }
 ],
 "metadata": {
  "kernelspec": {
   "display_name": "Python 3",
   "language": "python",
   "name": "python3"
  },
  "language_info": {
   "codemirror_mode": {
    "name": "ipython",
    "version": 3
   },
   "file_extension": ".py",
   "mimetype": "text/x-python",
   "name": "python",
   "nbconvert_exporter": "python",
   "pygments_lexer": "ipython3",
   "version": "3.12.10"
  }
 },
 "nbformat": 4,
 "nbformat_minor": 5
}
