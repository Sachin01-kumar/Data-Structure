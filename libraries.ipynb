{
 "cells": [
  {
   "cell_type": "code",
   "execution_count": 7,
   "id": "2f37406e",
   "metadata": {},
   "outputs": [],
   "source": [
    "import math"
   ]
  },
  {
   "cell_type": "code",
   "execution_count": 8,
   "id": "4c8d08af",
   "metadata": {},
   "outputs": [
    {
     "name": "stdout",
     "output_type": "stream",
     "text": [
      "120\n",
      "1\n",
      "12\n",
      "0.8414709848078965\n",
      "0.0\n"
     ]
    }
   ],
   "source": [
    "# math libraries\n",
    "print(math.factorial(5))\n",
    "print(math.gcd(2,5,7))\n",
    "print(math.lcm(2,4,6))\n",
    "print(math.sin(1))\n",
    "print(math.tan(0))"
   ]
  },
  {
   "cell_type": "code",
   "execution_count": 9,
   "id": "8b70cd2c",
   "metadata": {},
   "outputs": [],
   "source": [
    "from random import random, randint, choice, shuffle"
   ]
  },
  {
   "cell_type": "code",
   "execution_count": 10,
   "id": "bd0b12b8",
   "metadata": {},
   "outputs": [],
   "source": [
    "import random"
   ]
  },
  {
   "cell_type": "code",
   "execution_count": 11,
   "id": "9aec78da",
   "metadata": {},
   "outputs": [
    {
     "name": "stdout",
     "output_type": "stream",
     "text": [
      "0.678320414842776\n",
      "76\n",
      "2\n",
      "['Jane', 'Jhon', 'Jack']\n"
     ]
    }
   ],
   "source": [
    "print(random.random()) #gives the nearest value of zero\n",
    "print(random.randint(2,100)) #give random number from the given range\n",
    "print(random.choice([2,5,6,7,8])) # choses a random number from the provided list\n",
    "name=['Jhon', 'Jack', 'Jane'] # always give the shuffle order\n",
    "shuffle(name)\n",
    "print(name)"
   ]
  },
  {
   "cell_type": "code",
   "execution_count": 12,
   "id": "53f901a2",
   "metadata": {},
   "outputs": [],
   "source": [
    "from datetime import datetime as dt"
   ]
  },
  {
   "cell_type": "code",
   "execution_count": 13,
   "id": "5b914093",
   "metadata": {},
   "outputs": [
    {
     "name": "stdout",
     "output_type": "stream",
     "text": [
      "current Date and time: 2025-07-09 11:59:20.968187\n"
     ]
    }
   ],
   "source": [
    "print ('current Date and time:' , dt.now())"
   ]
  },
  {
   "cell_type": "code",
   "execution_count": 14,
   "id": "29477c9c",
   "metadata": {},
   "outputs": [
    {
     "name": "stdout",
     "output_type": "stream",
     "text": [
      "cureent Date : 2025-07-09\n",
      "cureent time : 11:59:20.975387\n"
     ]
    }
   ],
   "source": [
    "print('cureent Date :', dt.now().date())\n",
    "print('cureent time :', dt.now().time())\n"
   ]
  },
  {
   "cell_type": "code",
   "execution_count": 15,
   "id": "8bd79c8d",
   "metadata": {},
   "outputs": [
    {
     "name": "stdout",
     "output_type": "stream",
     "text": [
      "Current Year: 2025\n",
      "Current Month: 7\n",
      "Current Date: 9\n",
      "Current hour: 11\n",
      "Current minute: 59\n",
      "Current Second: 20\n",
      "Current weekdays: 2\n"
     ]
    }
   ],
   "source": [
    "print('Current Year:', dt.now().year)\n",
    "print('Current Month:', dt.now().month)\n",
    "print('Current Date:', dt.now().day)\n",
    "print('Current hour:', dt.now().hour)\n",
    "print('Current minute:', dt.now().minute)\n",
    "print('Current Second:', dt.now().second)\n",
    "print('Current weekdays:', dt.now().weekday())"
   ]
  },
  {
   "cell_type": "code",
   "execution_count": 16,
   "id": "02d04530",
   "metadata": {},
   "outputs": [
    {
     "name": "stdout",
     "output_type": "stream",
     "text": [
      "09/07/25\n"
     ]
    }
   ],
   "source": [
    "date = dt.strftime(dt.now(), '%d/%m/%y') # when you have to print date\n",
    "print(date)"
   ]
  },
  {
   "cell_type": "code",
   "execution_count": 17,
   "id": "b5df8a25",
   "metadata": {},
   "outputs": [
    {
     "name": "stdout",
     "output_type": "stream",
     "text": [
      "11:59:20\n"
     ]
    }
   ],
   "source": [
    "time = dt.strftime(dt.now(),'%H:%M:%S')\n",
    "print(time)"
   ]
  },
  {
   "cell_type": "code",
   "execution_count": null,
   "id": "2f6a153f",
   "metadata": {},
   "outputs": [],
   "source": []
  }
 ],
 "metadata": {
  "kernelspec": {
   "display_name": "Python 3",
   "language": "python",
   "name": "python3"
  },
  "language_info": {
   "codemirror_mode": {
    "name": "ipython",
    "version": 3
   },
   "file_extension": ".py",
   "mimetype": "text/x-python",
   "name": "python",
   "nbconvert_exporter": "python",
   "pygments_lexer": "ipython3",
   "version": "3.12.10"
  }
 },
 "nbformat": 4,
 "nbformat_minor": 5
}
