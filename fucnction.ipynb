{
 "cells": [
  {
   "cell_type": "markdown",
   "id": "c12c2dc1",
   "metadata": {},
   "source": [
    "- User Defined Functions\n",
    "    - Parametrized Fuction\n",
    "    - non parametrized Fuction \n",
    "    - return Fucntion\n",
    "    - non retuen function\n",
    "    - Default Parametrized Function\n",
    "    - Lambda Function\n",
    "- Built In Functions"
   ]
  },
  {
   "cell_type": "code",
   "execution_count": 7,
   "id": "e6d52f59",
   "metadata": {},
   "outputs": [],
   "source": [
    "# non parametrized function\n",
    "def greet(): #Function initialize\n",
    "    print(\"Hello\")\n",
    "    print(\"How are you ?\")\n",
    "    print(\"I am good thankyou\")"
   ]
  },
  {
   "cell_type": "code",
   "execution_count": 6,
   "id": "759567de",
   "metadata": {},
   "outputs": [
    {
     "name": "stdout",
     "output_type": "stream",
     "text": [
      "Hello\n",
      "How are you ?\n",
      "I am good thankyou\n"
     ]
    }
   ],
   "source": [
    "greet() #function calling"
   ]
  },
  {
   "cell_type": "code",
   "execution_count": 10,
   "id": "5d049ab3",
   "metadata": {},
   "outputs": [
    {
     "name": "stdout",
     "output_type": "stream",
     "text": [
      "15\n"
     ]
    }
   ],
   "source": [
    "# Parametrized Function (contain 2 things)\n",
    "\n",
    "def sum (a,b): #parameter\n",
    "    print(a+b)\n",
    "\n",
    "sum(5, 10) #arguments"
   ]
  },
  {
   "cell_type": "code",
   "execution_count": 11,
   "id": "57ea8009",
   "metadata": {},
   "outputs": [],
   "source": [
    "a = 10\n",
    "b = 5"
   ]
  },
  {
   "cell_type": "code",
   "execution_count": 12,
   "id": "5085fc17",
   "metadata": {},
   "outputs": [],
   "source": [
    "def sum():\n",
    "    print(a+b)"
   ]
  },
  {
   "cell_type": "code",
   "execution_count": 13,
   "id": "5b7f6332",
   "metadata": {},
   "outputs": [
    {
     "name": "stdout",
     "output_type": "stream",
     "text": [
      "15\n"
     ]
    }
   ],
   "source": [
    "sum()"
   ]
  },
  {
   "cell_type": "code",
   "execution_count": 24,
   "id": "7ca712ea",
   "metadata": {},
   "outputs": [
    {
     "name": "stdout",
     "output_type": "stream",
     "text": [
      "person is eligible for vote\n"
     ]
    }
   ],
   "source": [
    "def age(age):\n",
    "    if age>=18:\n",
    "        print('person is eligible for vote')\n",
    "    else:\n",
    "        print('person is not eligble for vote')\n",
    "age(55)"
   ]
  },
  {
   "cell_type": "code",
   "execution_count": 30,
   "id": "1956bc82",
   "metadata": {},
   "outputs": [
    {
     "name": "stdout",
     "output_type": "stream",
     "text": [
      "14.0\n"
     ]
    }
   ],
   "source": [
    "#  non return function\n",
    "def avg(a,b,c,d):\n",
    "    avg = a+b+c+d/4\n",
    "    print(avg)\n",
    "\n",
    "avg(2,4,6,8)"
   ]
  },
  {
   "cell_type": "code",
   "execution_count": 29,
   "id": "66a0a7a9",
   "metadata": {},
   "outputs": [
    {
     "name": "stdout",
     "output_type": "stream",
     "text": [
      "14.0\n"
     ]
    }
   ],
   "source": [
    "# return function\n",
    "def avg(a,b,c,d):\n",
    "    return a+b+c+d/4\n",
    "\n",
    "average = avg(2,4,6,8)\n",
    "print(average)\n"
   ]
  },
  {
   "cell_type": "code",
   "execution_count": null,
   "id": "b4478360",
   "metadata": {},
   "outputs": [
    {
     "name": "stdout",
     "output_type": "stream",
     "text": [
      "I Love USA\n",
      "I Love London\n",
      "I Love India\n"
     ]
    }
   ],
   "source": [
    "# default parametrized function\n",
    "def mycountry(country= 'India'): # pre assign to variable for safe( if we don't assign any value it will automatically print the defaunt variable) \n",
    "    return f'I Love {country}'\n",
    "print(mycountry('USA'))\n",
    "print(mycountry('London'))\n",
    "print(mycountry())"
   ]
  },
  {
   "cell_type": "code",
   "execution_count": 34,
   "id": "321d2d49",
   "metadata": {},
   "outputs": [
    {
     "data": {
      "text/plain": [
       "256"
      ]
     },
     "execution_count": 34,
     "metadata": {},
     "output_type": "execute_result"
    }
   ],
   "source": [
    "# Lambda Function\n",
    "def square(a):\n",
    "    return a**a\n",
    "square(4)"
   ]
  },
  {
   "cell_type": "code",
   "execution_count": 46,
   "id": "65805cee",
   "metadata": {},
   "outputs": [
    {
     "name": "stdout",
     "output_type": "stream",
     "text": [
      "27\n"
     ]
    }
   ],
   "source": [
    "square = lambda a : a**a\n",
    "print(square(3))"
   ]
  },
  {
   "cell_type": "code",
   "execution_count": 45,
   "id": "6bde5320",
   "metadata": {},
   "outputs": [
    {
     "name": "stdout",
     "output_type": "stream",
     "text": [
      "no is even \n"
     ]
    }
   ],
   "source": [
    "def check (check):\n",
    "    if check%2==0:\n",
    "        print('no is even ')\n",
    "    else:\n",
    "        print('no is odd')\n",
    "\n",
    "check(8)"
   ]
  },
  {
   "cell_type": "code",
   "execution_count": 9,
   "id": "d5afad1b",
   "metadata": {},
   "outputs": [
    {
     "name": "stdout",
     "output_type": "stream",
     "text": [
      "no is prime\n"
     ]
    }
   ],
   "source": [
    "def prime(prime):\n",
    "    if prime%2==0 & prime%1==0:\n",
    "        print('not prime')\n",
    "    else:\n",
    "        print('no is prime')\n",
    "\n",
    "prime(5)"
   ]
  },
  {
   "cell_type": "code",
   "execution_count": null,
   "id": "be0f3d4d",
   "metadata": {},
   "outputs": [],
   "source": []
  }
 ],
 "metadata": {
  "kernelspec": {
   "display_name": "Python 3",
   "language": "python",
   "name": "python3"
  },
  "language_info": {
   "codemirror_mode": {
    "name": "ipython",
    "version": 3
   },
   "file_extension": ".py",
   "mimetype": "text/x-python",
   "name": "python",
   "nbconvert_exporter": "python",
   "pygments_lexer": "ipython3",
   "version": "3.12.10"
  }
 },
 "nbformat": 4,
 "nbformat_minor": 5
}
