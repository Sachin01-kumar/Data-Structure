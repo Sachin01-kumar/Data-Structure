{
 "cells": [
  {
   "cell_type": "code",
   "execution_count": 7,
   "id": "f1582c2b",
   "metadata": {},
   "outputs": [],
   "source": [
    "import os"
   ]
  },
  {
   "cell_type": "code",
   "execution_count": 8,
   "id": "3fce8064",
   "metadata": {},
   "outputs": [
    {
     "name": "stdout",
     "output_type": "stream",
     "text": [
      "Current Working Directory is: c:\\Users\\Sachin\\OneDrive\\Documents\\Desktop\\Data Structure\n"
     ]
    }
   ],
   "source": [
    "print('Current Working Directory is:', os.getcwd())# current working directory"
   ]
  },
  {
   "cell_type": "code",
   "execution_count": 9,
   "id": "82afc0c4",
   "metadata": {},
   "outputs": [
    {
     "name": "stdout",
     "output_type": "stream",
     "text": [
      "File is current working directory ['.git', 'dictionary.ipynb', 'file handling.ipynb', 'First.ipynb', 'Flask', 'fucnction.ipynb', 'libraries.ipynb', 'sets.ipynb']\n"
     ]
    }
   ],
   "source": [
    "files = os.listdir()\n",
    "print('File is current working directory', files)"
   ]
  },
  {
   "cell_type": "code",
   "execution_count": 10,
   "id": "a04a9275",
   "metadata": {},
   "outputs": [
    {
     "name": "stdout",
     "output_type": "stream",
     "text": [
      "Files in the Current Working directory ['.vscode', 'basic.ipynb', 'basic.py', 'condition.ipynb', 'datatype.ipynb', 'first.c', 'loops.ipynb', 'operators.ipynb', 'ps.ipynb']\n"
     ]
    }
   ],
   "source": [
    "files = os.listdir(r\"C:\\Users\\Sachin\\OneDrive\\Documents\\Desktop\\CAPSUL\")\n",
    "print('Files in the Current Working directory', files)"
   ]
  },
  {
   "cell_type": "code",
   "execution_count": 11,
   "id": "1ac7d823",
   "metadata": {},
   "outputs": [
    {
     "name": "stdout",
     "output_type": "stream",
     "text": [
      "=> C:\\Users\\Sachin\\OneDrive\\Documents\\Desktop\\CAPSUL\n",
      "📂 ['.vscode', 'first.c', 'ps.ipynb']\n",
      "📜 ['basic.ipynb', 'basic.py', 'condition.ipynb', 'datatype.ipynb', 'loops.ipynb', 'operators.ipynb']\n",
      "=> C:\\Users\\Sachin\\OneDrive\\Documents\\Desktop\\CAPSUL\\.vscode\n",
      "📂 []\n",
      "📜 ['c_cpp_properties.json', 'launch.json', 'settings.json', 'tasks.json']\n",
      "=> C:\\Users\\Sachin\\OneDrive\\Documents\\Desktop\\CAPSUL\\first.c\n",
      "📂 ['build']\n",
      "📜 ['first.c', 'first.exe', 'firstc.c']\n",
      "=> C:\\Users\\Sachin\\OneDrive\\Documents\\Desktop\\CAPSUL\\first.c\\build\n",
      "📂 ['Debug']\n",
      "📜 []\n",
      "=> C:\\Users\\Sachin\\OneDrive\\Documents\\Desktop\\CAPSUL\\first.c\\build\\Debug\n",
      "📂 []\n",
      "📜 ['first.o', 'outDebug.exe']\n",
      "=> C:\\Users\\Sachin\\OneDrive\\Documents\\Desktop\\CAPSUL\\ps.ipynb\n",
      "📂 []\n",
      "📜 ['ps.ipynb']\n",
      "Total files in directory tree: 16\n"
     ]
    }
   ],
   "source": [
    "total_files= 0\n",
    "for path, folder, files in os.walk(r\"C:\\Users\\Sachin\\OneDrive\\Documents\\Desktop\\CAPSUL\"):\n",
    "    print('=>', path)\n",
    "    print('📂', folder)\n",
    "    print('📜', files)\n",
    "    total_files += len(files)\n",
    "print('Total files in directory tree:', total_files)"
   ]
  },
  {
   "cell_type": "code",
   "execution_count": 13,
   "id": "4ae0878d",
   "metadata": {},
   "outputs": [
    {
     "name": "stdout",
     "output_type": "stream",
     "text": [
      "THe File does not exixts\n"
     ]
    }
   ],
   "source": [
    "files = r'D:Java'\n",
    "if os.path.exists(files):\n",
    "    print('The File Exists')\n",
    "else:\n",
    "    print(\"THe File does not exixts\")"
   ]
  },
  {
   "cell_type": "code",
   "execution_count": null,
   "id": "602630e6",
   "metadata": {},
   "outputs": [],
   "source": []
  }
 ],
 "metadata": {
  "kernelspec": {
   "display_name": "Python 3",
   "language": "python",
   "name": "python3"
  },
  "language_info": {
   "codemirror_mode": {
    "name": "ipython",
    "version": 3
   },
   "file_extension": ".py",
   "mimetype": "text/x-python",
   "name": "python",
   "nbconvert_exporter": "python",
   "pygments_lexer": "ipython3",
   "version": "3.12.10"
  }
 },
 "nbformat": 4,
 "nbformat_minor": 5
}
