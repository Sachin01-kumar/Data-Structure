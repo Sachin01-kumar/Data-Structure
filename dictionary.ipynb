{
 "cells": [
  {
   "cell_type": "markdown",
   "metadata": {},
   "source": [
    "- how to create dictionary\n",
    "- how to acccess pairs in dictionary\n",
    "- how to run a loop in dictionary\n",
    "- how to make a nested dictionary\n",
    "- indexing in dictionary"
   ]
  },
  {
   "cell_type": "code",
   "execution_count": 1,
   "metadata": {},
   "outputs": [
    {
     "name": "stdout",
     "output_type": "stream",
     "text": [
      "{'name': 'Alice', 'age': 20, 'cource': 'B.tech', 'marks': 87}\n"
     ]
    }
   ],
   "source": [
    "student = {\n",
    "     \"name\": \"Alice\",\n",
    "    \"age\": 20,\n",
    "    \"cource\": \"B.tech\",\n",
    "    \"marks\": 87\n",
    "}\n",
    "print(student)"
   ]
  },
  {
   "cell_type": "code",
   "execution_count": 2,
   "metadata": {},
   "outputs": [
    {
     "name": "stdout",
     "output_type": "stream",
     "text": [
      "{'name': 'Alice', 'age': '20', 'cource': 'B.tech', 'marks': 87}\n"
     ]
    }
   ],
   "source": [
    "info = dict(name = \"Alice\" , age = \"20\" , cource = \"B.tech\" , marks = 87)\n",
    "print(info)"
   ]
  },
  {
   "cell_type": "code",
   "execution_count": 3,
   "metadata": {},
   "outputs": [
    {
     "name": "stdout",
     "output_type": "stream",
     "text": [
      "{'Lucknow': [30, 35, 41], 'Delhi': {40, 35, 45}, 'Chennai': [31, 36, 42]}\n"
     ]
    }
   ],
   "source": [
    "temp = {\n",
    "    'Lucknow':[30,35,41],\n",
    "    'Delhi': {35,40,45},\n",
    "    'Chennai': [31,36,42],\n",
    "}\n",
    "print(temp)"
   ]
  },
  {
   "cell_type": "markdown",
   "metadata": {},
   "source": [
    "### **Pair access** ###"
   ]
  },
  {
   "cell_type": "code",
   "execution_count": 4,
   "metadata": {},
   "outputs": [
    {
     "data": {
      "text/plain": [
       "'20'"
      ]
     },
     "execution_count": 4,
     "metadata": {},
     "output_type": "execute_result"
    }
   ],
   "source": [
    "#list methord to access value through key\n",
    "info['name']\n",
    "info['age']\n",
    "#1 command at a time"
   ]
  },
  {
   "cell_type": "code",
   "execution_count": 5,
   "metadata": {},
   "outputs": [
    {
     "data": {
      "text/plain": [
       "'Alice'"
      ]
     },
     "execution_count": 5,
     "metadata": {},
     "output_type": "execute_result"
    }
   ],
   "source": [
    "#2 Methord\n",
    "info.get('name')"
   ]
  },
  {
   "cell_type": "code",
   "execution_count": 6,
   "metadata": {},
   "outputs": [],
   "source": [
    "#addind new key and value pair in the dictionary\n",
    "info[\"city\"] = 'lucknow'"
   ]
  },
  {
   "cell_type": "code",
   "execution_count": 7,
   "metadata": {},
   "outputs": [
    {
     "name": "stdout",
     "output_type": "stream",
     "text": [
      "{'name': 'Alice', 'age': '20', 'cource': 'B.tech', 'marks': 87, 'city': 'lucknow'}\n"
     ]
    }
   ],
   "source": [
    "print(info)"
   ]
  },
  {
   "cell_type": "code",
   "execution_count": 10,
   "metadata": {},
   "outputs": [
    {
     "name": "stdout",
     "output_type": "stream",
     "text": [
      "name : Alice\n",
      "age : 20\n",
      "cource : B.tech\n",
      "marks : 87\n"
     ]
    }
   ],
   "source": [
    "for i,j in student.items():\n",
    "    print(f'{i} : {j}')"
   ]
  },
  {
   "cell_type": "code",
   "execution_count": 11,
   "metadata": {},
   "outputs": [
    {
     "name": "stdout",
     "output_type": "stream",
     "text": [
      "dict_keys(['name', 'age', 'cource', 'marks'])\n",
      "dict_values(['Alice', 20, 'B.tech', 87])\n",
      "dict_items([('name', 'Alice'), ('age', 20), ('cource', 'B.tech'), ('marks', 87)])\n"
     ]
    }
   ],
   "source": [
    "print(student.keys())\n",
    "print(student.values())\n",
    "print(student.items())"
   ]
  },
  {
   "cell_type": "markdown",
   "metadata": {},
   "source": [
    "### **Nested Dictionary** ###"
   ]
  },
  {
   "cell_type": "code",
   "execution_count": 14,
   "metadata": {},
   "outputs": [
    {
     "name": "stdout",
     "output_type": "stream",
     "text": [
      "{'emp001': {'name': 'Alice', 'dept': 'Finance', 'salary': 50000}, 'emp002': {'name': 'bob', 'dept': 'marketing', 'salary': 45000}, 'emp003': {'name': 'Smith', 'dept': 'IT', 'salary': 70000}}\n"
     ]
    }
   ],
   "source": [
    "company = {\n",
    "    'emp001' : {\n",
    "        'name' : 'Alice',\n",
    "        'dept': 'Finance',\n",
    "        'salary' : 50000\n",
    "    },\n",
    "    'emp002' : {\n",
    "        'name' : 'bob',\n",
    "        'dept' : 'marketing',\n",
    "        'salary' : 45000\n",
    "    },\n",
    "    'emp003' : {\n",
    "        'name' : 'Smith',\n",
    "        'dept' : 'IT',\n",
    "        'salary' : 70000\n",
    "    }\n",
    "}\n",
    "print(company)"
   ]
  },
  {
   "cell_type": "code",
   "execution_count": 15,
   "metadata": {},
   "outputs": [],
   "source": [
    "from pprint import pprint"
   ]
  },
  {
   "cell_type": "code",
   "execution_count": 16,
   "metadata": {},
   "outputs": [
    {
     "name": "stdout",
     "output_type": "stream",
     "text": [
      "{'emp001': {'dept': 'Finance', 'name': 'Alice', 'salary': 50000},\n",
      " 'emp002': {'dept': 'marketing', 'name': 'bob', 'salary': 45000},\n",
      " 'emp003': {'dept': 'IT', 'name': 'Smith', 'salary': 70000}}\n"
     ]
    }
   ],
   "source": [
    "pprint(company)"
   ]
  },
  {
   "cell_type": "code",
   "execution_count": 31,
   "metadata": {},
   "outputs": [],
   "source": [
    "#adding key value in nested dictionary\n",
    "company['emp004'] = {\n",
    "        'name' : 'alex',\n",
    "        'dept' : 'designer',\n",
    "        'salary' : 65000\n",
    "    }"
   ]
  },
  {
   "cell_type": "code",
   "execution_count": 30,
   "metadata": {},
   "outputs": [
    {
     "name": "stdout",
     "output_type": "stream",
     "text": [
      "{'emp001': {'dept': 'Finance', 'name': 'Alice', 'salary': 50000},\n",
      " 'emp002': {'dept': 'marketing', 'name': 'bob', 'salary': 45000},\n",
      " 'emp003': {'dept': 'IT', 'name': 'Smith', 'salary': 70000},\n",
      " 'emp004': {'dept': 'designer', 'name': 'alex', 'salary': 65000}}\n"
     ]
    }
   ],
   "source": [
    "pprint(company)"
   ]
  },
  {
   "cell_type": "code",
   "execution_count": 32,
   "metadata": {},
   "outputs": [
    {
     "data": {
      "text/plain": [
       "'marketing'"
      ]
     },
     "execution_count": 32,
     "metadata": {},
     "output_type": "execute_result"
    }
   ],
   "source": [
    "company['emp002']['dept']"
   ]
  },
  {
   "cell_type": "code",
   "execution_count": 40,
   "metadata": {},
   "outputs": [
    {
     "name": "stdout",
     "output_type": "stream",
     "text": [
      "35.333333333333336\n"
     ]
    }
   ],
   "source": [
    "#finding average temp of lucknow\n",
    "print(sum(temp['Lucknow'])/len(temp['Lucknow']))"
   ]
  },
  {
   "cell_type": "code",
   "execution_count": null,
   "metadata": {},
   "outputs": [],
   "source": []
  }
 ],
 "metadata": {
  "kernelspec": {
   "display_name": "Python 3",
   "language": "python",
   "name": "python3"
  },
  "language_info": {
   "codemirror_mode": {
    "name": "ipython",
    "version": 3
   },
   "file_extension": ".py",
   "mimetype": "text/x-python",
   "name": "python",
   "nbconvert_exporter": "python",
   "pygments_lexer": "ipython3",
   "version": "3.12.10"
  }
 },
 "nbformat": 4,
 "nbformat_minor": 2
}
